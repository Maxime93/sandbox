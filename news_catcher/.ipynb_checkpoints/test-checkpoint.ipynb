{
 "cells": [
  {
   "cell_type": "code",
   "execution_count": 1,
   "metadata": {},
   "outputs": [],
   "source": [
    "from newscatcher import Newscatcher"
   ]
  },
  {
   "cell_type": "markdown",
   "metadata": {},
   "source": [
    "Get the latest news from nytimes.com (we support thousands of news websites, try yourself!) main news feed"
   ]
  },
  {
   "cell_type": "code",
   "execution_count": 2,
   "metadata": {},
   "outputs": [],
   "source": [
    "nc = Newscatcher(website = 'nytimes.com')\n",
    "results = nc.get_news()\n",
    "\n",
    "# results.keys()\n",
    "# 'url', 'topic', 'language', 'country', 'articles'\n",
    "\n",
    "# Get the articles\n",
    "articles = results['articles']\n",
    "\n",
    "first_article_summary = articles[0]['summary']\n",
    "first_article_title = articles[0]['title']"
   ]
  },
  {
   "cell_type": "code",
   "execution_count": 5,
   "metadata": {},
   "outputs": [
    {
     "name": "stdout",
     "output_type": "stream",
     "text": [
      "Live Coronavirus News Updates: Brazil, Churches, Hong Kong\n",
      "The national death toll approaches 100,000. Houses of worship around the world weigh when and how to reopen. The U.S. may ban travel from Brazil.\n"
     ]
    }
   ],
   "source": [
    "print(first_article_title)\n",
    "print(first_article_summary)"
   ]
  },
  {
   "cell_type": "code",
   "execution_count": null,
   "metadata": {},
   "outputs": [],
   "source": []
  }
 ],
 "metadata": {
  "kernelspec": {
   "display_name": "Python 3",
   "language": "python",
   "name": "python3"
  },
  "language_info": {
   "codemirror_mode": {
    "name": "ipython",
    "version": 3
   },
   "file_extension": ".py",
   "mimetype": "text/x-python",
   "name": "python",
   "nbconvert_exporter": "python",
   "pygments_lexer": "ipython3",
   "version": "3.7.4"
  }
 },
 "nbformat": 4,
 "nbformat_minor": 4
}
